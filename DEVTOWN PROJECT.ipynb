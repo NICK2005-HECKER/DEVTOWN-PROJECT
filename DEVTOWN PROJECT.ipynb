{
 "cells": [
  {
   "cell_type": "code",
   "execution_count": 2,
   "id": "8c51e72e",
   "metadata": {},
   "outputs": [
    {
     "name": "stdout",
     "output_type": "stream",
     "text": [
      "The word is a Name of famous Programming language\n",
      "This language is used to create website, data analysis/visualisation,creating software's etc.\n",
      "You have only 5 guesses so guess wisely!!!\n",
      "Guess the Programming language: Java\n",
      "Sorry, that's not the Programming language. You have 4 guesses left.\n",
      "Guess the Programming language: Css\n",
      "Sorry, that's not the Programming language. You have 3 guesses left.\n",
      "Guess the Programming language: HTML\n",
      "Sorry, that's not the Programming language. You have 2 guesses left.\n",
      "Guess the Programming language: Javascript\n",
      "Sorry, that's not the Programming language. You have 1 guesses left.\n",
      "Guess the Programming language: Python\n",
      "Congratulations! You guessed the Programming language!\n"
     ]
    }
   ],
   "source": [
    "import random\n",
    "print(\"The word is a Name of famous Programming language\")\n",
    "print(\"This language is used to create website, data analysis/visualisation,creating software's etc.\")\n",
    "print(\"You have only 5 guesses so guess wisely!!!\")\n",
    "words = ['Python']\n",
    "word = random.choice(words)\n",
    "guesses_left = 5  # number of guesses allowed\n",
    "while guesses_left > 0:\n",
    "    guess = input(\"Guess the Programming language: \")\n",
    "    if guess == word:\n",
    "        print(\"Congratulations! You guessed the Programming language!\")\n",
    "        break\n",
    "    else:\n",
    "        guesses_left -= 1\n",
    "        if guesses_left == 0:\n",
    "            print(\"Sorry, you ran out of guesses. The Programming language was\", word)\n",
    "        else:\n",
    "            print(\"Sorry, that's not the Programming language. You have\", guesses_left, \"guesses left.\")\n"
   ]
  },
  {
   "cell_type": "code",
   "execution_count": null,
   "id": "543d5d35",
   "metadata": {},
   "outputs": [],
   "source": []
  }
 ],
 "metadata": {
  "kernelspec": {
   "display_name": "Python 3 (ipykernel)",
   "language": "python",
   "name": "python3"
  },
  "language_info": {
   "codemirror_mode": {
    "name": "ipython",
    "version": 3
   },
   "file_extension": ".py",
   "mimetype": "text/x-python",
   "name": "python",
   "nbconvert_exporter": "python",
   "pygments_lexer": "ipython3",
   "version": "3.10.9"
  }
 },
 "nbformat": 4,
 "nbformat_minor": 5
}
